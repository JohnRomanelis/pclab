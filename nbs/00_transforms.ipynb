{
 "cells": [
  {
   "cell_type": "markdown",
   "metadata": {},
   "source": [
    "# Transforms\n",
    "\n",
    "> A set of transforms for point cloud data augmentation"
   ]
  },
  {
   "cell_type": "code",
   "execution_count": null,
   "metadata": {},
   "outputs": [],
   "source": [
    "#| default_exp transforms"
   ]
  },
  {
   "cell_type": "code",
   "execution_count": null,
   "metadata": {},
   "outputs": [],
   "source": [
    "#| hide\n",
    "from nbdev.showdoc import *"
   ]
  },
  {
   "cell_type": "code",
   "execution_count": null,
   "metadata": {},
   "outputs": [],
   "source": [
    "#| export \n",
    "import numpy as np\n",
    "import torch"
   ]
  },
  {
   "cell_type": "code",
   "execution_count": null,
   "metadata": {},
   "outputs": [],
   "source": [
    "#| export \n",
    "class FirstKPointsKeep:\n",
    "    \"Keep a subset of the original pointcloud containing the K first points\"\n",
    "    def __init__(self, num_points:int): # number of points to keep\n",
    "        self.num_points = num_points\n",
    "\n",
    "    def __call__(self, x):\n",
    "        return x[:self.num_points, :]"
   ]
  },
  {
   "cell_type": "code",
   "execution_count": null,
   "metadata": {},
   "outputs": [
    {
     "name": "stdout",
     "output_type": "stream",
     "text": [
      "Shape:: Before transform: (1024, 3) | After transform: (512, 3)\n"
     ]
    }
   ],
   "source": [
    "#| hide\n",
    "t = FirstKPointsKeep(512)\n",
    "pc = np.random.random((1024, 3))\n",
    "pc2 = t(pc)\n",
    "print(f'Shape:: Before transform: {pc.shape} | After transform: {pc2.shape}')"
   ]
  },
  {
   "cell_type": "code",
   "execution_count": null,
   "metadata": {},
   "outputs": [],
   "source": [
    "#| export \n",
    "class RandomPointKeep:\n",
    "    \"Keep a random subset of points from the original pointcloud\"\n",
    "    def __init__(self, num_points:int): # number of points to keep\n",
    "        self.num_points = num_points\n",
    "        \n",
    "    def __call__(self, x):\n",
    "        np.random.shuffle(x)\n",
    "        return x[:self.num_points, :]"
   ]
  },
  {
   "cell_type": "code",
   "execution_count": null,
   "metadata": {},
   "outputs": [
    {
     "name": "stdout",
     "output_type": "stream",
     "text": [
      "Shape:: Before transform: (1024, 3) | After transform: (512, 3)\n"
     ]
    }
   ],
   "source": [
    "#| hide\n",
    "t = RandomPointKeep(512)\n",
    "pc = np.random.random((1024, 3))\n",
    "pc2 = t(pc)\n",
    "print(f'Shape:: Before transform: {pc.shape} | After transform: {pc2.shape}')"
   ]
  },
  {
   "cell_type": "code",
   "execution_count": null,
   "metadata": {},
   "outputs": [],
   "source": [
    "#| export \n",
    "class UnitSphereNormalization:\n",
    "    \"Normalizes the coordinates of the point cloud, so that all points are inside the unit sphere\"\n",
    "\n",
    "    def __call__(self, pc):\n",
    "        centroid = np.mean(pc, axis=0)\n",
    "        pc = pc - centroid\n",
    "        m = np.max(np.sqrt(np.sum(pc**2, axis=1)))\n",
    "        pc = pc / m\n",
    "        return pc"
   ]
  },
  {
   "cell_type": "code",
   "execution_count": null,
   "metadata": {},
   "outputs": [],
   "source": [
    "#| export \n",
    "class RandomShuffle:\n",
    "    \"Shuffles the order of the points inside the point cloud\"\n",
    "    def __call__(self, pc):\n",
    "        np.random.shuffle(pc)\n",
    "        return pc"
   ]
  },
  {
   "cell_type": "code",
   "execution_count": null,
   "metadata": {},
   "outputs": [],
   "source": [
    "#| export \n",
    "class AnisotropicScale:\n",
    "    \"Performs a random anisotropic scaling of the point cloud\"\n",
    "    def __call__(self, pc):\n",
    "        xyz1 = np.random.uniform(low=2./3., high=3./2., size=[3])\n",
    "        xyz2 = np.random.uniform(low=-0.2, high=0.2, size=[3])\n",
    "        pointcloud = pc\n",
    "        translated_pointcloud = pointcloud * xyz1 + xyz2\n",
    "        return translated_pointcloud.astype(np.float32)"
   ]
  },
  {
   "cell_type": "code",
   "execution_count": null,
   "metadata": {},
   "outputs": [],
   "source": [
    "#| export \n",
    "class RandomPointDropout:\n",
    "    \"Randomly removes a subset of the point cloud. To keep the shape of the point cloud constant we set all the removed points to have the same coordinates.\"\n",
    "    def __init__(self, max_dropout_ratio = 0.875):\n",
    "        self.max_dropout_ratio = max_dropout_ratio\n",
    "        \n",
    "    def __call__(self, pc):  \n",
    "        dropout_ratio = np.random.random() * self.max_dropout_ratio # 0 ~ 0.875\n",
    "        drop_idx = np.where(np.random.random((pc.shape[0])) <= dropout_ratio)[0]\n",
    "\n",
    "        if len(drop_idx) > 0:\n",
    "            pc[drop_idx,:] = pc[0,:] # set to the first point\n",
    "\n",
    "        return pc"
   ]
  },
  {
   "cell_type": "code",
   "execution_count": null,
   "metadata": {},
   "outputs": [],
   "source": [
    "#| export \n",
    "class ToTensor:\n",
    "    \"Turns a numpy array to a torch tensor\"\n",
    "    def __call__(self, pc):\n",
    "        pc = torch.from_numpy(pc)\n",
    "        return pc\n"
   ]
  }
 ],
 "metadata": {
  "kernelspec": {
   "display_name": "python3",
   "language": "python",
   "name": "python3"
  }
 },
 "nbformat": 4,
 "nbformat_minor": 4
}
