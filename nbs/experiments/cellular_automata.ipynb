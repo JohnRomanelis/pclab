{
 "cells": [
  {
   "cell_type": "code",
   "execution_count": null,
   "id": "7f2742de-4e87-4280-bc9b-736702b4c34f",
   "metadata": {},
   "outputs": [],
   "source": [
    "import PIL"
   ]
  },
  {
   "cell_type": "markdown",
   "id": "eba2f779-685d-4bf5-9867-bc02529de6a8",
   "metadata": {},
   "source": [
    "# Neural Cellular Automata"
   ]
  },
  {
   "cell_type": "code",
   "execution_count": null,
   "id": "ad6dfc90-f384-41a0-8c76-8a5d10feaa8b",
   "metadata": {},
   "outputs": [
    {
     "ename": "SyntaxError",
     "evalue": "invalid syntax (1186210362.py, line 1)",
     "output_type": "error",
     "traceback": [
      "\u001b[0;36m  Cell \u001b[0;32mIn[1], line 1\u001b[0;36m\u001b[0m\n\u001b[0;31m    path =\u001b[0m\n\u001b[0m           ^\u001b[0m\n\u001b[0;31mSyntaxError\u001b[0m\u001b[0;31m:\u001b[0m invalid syntax\n"
     ]
    }
   ],
   "source": [
    "path = 'images/ "
   ]
  },
  {
   "cell_type": "code",
   "execution_count": null,
   "id": "1fbbfe45-1be3-49f1-9fa0-11ea270274c1",
   "metadata": {},
   "outputs": [],
   "source": []
  }
 ],
 "metadata": {
  "kernelspec": {
   "display_name": "python3",
   "language": "python",
   "name": "python3"
  }
 },
 "nbformat": 4,
 "nbformat_minor": 5
}
