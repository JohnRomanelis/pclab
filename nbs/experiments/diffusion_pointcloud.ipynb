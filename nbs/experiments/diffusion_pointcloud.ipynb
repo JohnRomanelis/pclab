{
 "cells": [
  {
   "cell_type": "raw",
   "metadata": {},
   "source": [
    "---\n",
    "skip_showdoc: true\n",
    "skip_exec: true\n",
    "---"
   ]
  },
  {
   "cell_type": "markdown",
   "metadata": {},
   "source": [
    "# Point Cloud Diffusion "
   ]
  },
  {
   "cell_type": "code",
   "execution_count": null,
   "metadata": {},
   "outputs": [
    {
     "ename": "ImportError",
     "evalue": "cannot import name 'ModelNet40' from 'pclab.datasets.modelnet' (/home/ioannis/Desktop/programming/phd/ExpPointMAE_continue/pclab/pclab/datasets/modelnet.py)",
     "output_type": "error",
     "traceback": [
      "\u001b[0;31m---------------------------------------------------------------------------\u001b[0m",
      "\u001b[0;31mImportError\u001b[0m                               Traceback (most recent call last)",
      "Cell \u001b[0;32mIn[1], line 1\u001b[0m\n\u001b[0;32m----> 1\u001b[0m \u001b[38;5;28;01mfrom\u001b[39;00m \u001b[38;5;21;01mpclab\u001b[39;00m\u001b[38;5;21;01m.\u001b[39;00m\u001b[38;5;21;01mdatasets\u001b[39;00m\u001b[38;5;21;01m.\u001b[39;00m\u001b[38;5;21;01mmodelnet\u001b[39;00m \u001b[38;5;28;01mimport\u001b[39;00m ModelNet40\n",
      "\u001b[0;31mImportError\u001b[0m: cannot import name 'ModelNet40' from 'pclab.datasets.modelnet' (/home/ioannis/Desktop/programming/phd/ExpPointMAE_continue/pclab/pclab/datasets/modelnet.py)"
     ]
    }
   ],
   "source": [
    "from pclab.datasets.modelnet import ModelNet40"
   ]
  },
  {
   "cell_type": "code",
   "execution_count": null,
   "metadata": {},
   "outputs": [],
   "source": []
  }
 ],
 "metadata": {
  "kernelspec": {
   "display_name": "python3",
   "language": "python",
   "name": "python3"
  }
 },
 "nbformat": 4,
 "nbformat_minor": 4
}
