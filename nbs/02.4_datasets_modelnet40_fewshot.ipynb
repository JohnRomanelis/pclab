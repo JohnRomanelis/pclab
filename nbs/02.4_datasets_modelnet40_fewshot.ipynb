{
 "cells": [
  {
   "cell_type": "markdown",
   "metadata": {},
   "source": [
    "# ModelNet40-Few Shot\n",
    "\n",
    "> A dataset loader for the modelnet40-few shot classification. We are using the same dataset as [Point-BERT](https://github.com/lulutang0608/Point-BERT.git) and [Point-MAE](https://github.com/Pang-Yatian/Point-MAE.git)"
   ]
  },
  {
   "cell_type": "code",
   "execution_count": null,
   "metadata": {},
   "outputs": [],
   "source": [
    "#| default_exp datasets/modelnet_fewshot"
   ]
  },
  {
   "cell_type": "markdown",
   "metadata": {},
   "source": [
    "The code to load the ModelNet40 dataset comes from the DGCNN repo. \n",
    "There are some alternations, so that it can store and load the data from a custom path. \n",
    "Also there is an option to load only a specific class. "
   ]
  },
  {
   "cell_type": "code",
   "execution_count": null,
   "metadata": {},
   "outputs": [],
   "source": [
    "#| hide\n",
    "from nbdev.showdoc import *"
   ]
  },
  {
   "cell_type": "code",
   "execution_count": null,
   "metadata": {},
   "outputs": [],
   "source": [
    "#| export\n",
    "import os\n",
    "import numpy as np\n",
    "import pickle\n",
    "\n",
    "from torch.utils.data import Dataset\n",
    "from torch.utils.data import DataLoader\n",
    "from pclab.transforms import *"
   ]
  },
  {
   "cell_type": "code",
   "execution_count": null,
   "metadata": {},
   "outputs": [],
   "source": [
    "#| export\n",
    "\n",
    "class ModelNetFewShot(Dataset):\n",
    "    'Dataset to access the few shot classification data for the ModelNet40 dataset.'\n",
    "    def __init__(self, \n",
    "                 path,\n",
    "                 split='train',\n",
    "                 way =5, \n",
    "                 shot=10, \n",
    "                 fold=0,\n",
    "                 transforms=[]\n",
    "                ):\n",
    "        \n",
    "        assert split in ['train', 'test'], 'Split should either be `train` or `test`'\n",
    "        assert way in [5, 10]\n",
    "        assert shot in [10, 20]\n",
    "        assert fold in list(range(10))\n",
    "        \n",
    "        # just a reminder that the data also contain normal information\n",
    "        self.use_normals=False\n",
    "\n",
    "        self.split=split\n",
    "        self.way=way\n",
    "        self.shot=shot\n",
    "        self.fold=fold\n",
    "        self.transforms=transforms\n",
    "        \n",
    "        self.pickle_path = os.path.join(path, 'ModelNetFewshot', f'{self.way}way_{self.shot}shot', f'{self.fold}.pkl')\n",
    "        \n",
    "        with open(self.pickle_path, 'rb') as f:\n",
    "            self.data = pickle.load(f)[self.split]\n",
    "        \n",
    "    def __len__(self):\n",
    "        return len(self.data)\n",
    "    \n",
    "    def __getitem__(self, idx):\n",
    "                \n",
    "        points, label, _ = self.data[idx]\n",
    "        \n",
    "        # points has normal information, but we only use the point coordinates\n",
    "        points = points[:, :3]\n",
    "        \n",
    "        for t in self.transforms:\n",
    "            points = t(points)\n",
    "            \n",
    "        return points, label"
   ]
  },
  {
   "cell_type": "code",
   "execution_count": null,
   "metadata": {},
   "outputs": [],
   "source": [
    "#| hide\n",
    "path = \"/home/ioannis/Desktop/programming/data\""
   ]
  },
  {
   "cell_type": "code",
   "execution_count": null,
   "metadata": {},
   "outputs": [
    {
     "data": {
      "text/plain": [
       "50"
      ]
     },
     "execution_count": null,
     "metadata": {},
     "output_type": "execute_result"
    }
   ],
   "source": [
    "#|eval: false\n",
    "transforms=[RandomPointKeep(1024), RandomPointDropout(), UnitSphereNormalization(), AnisotropicScale(), ToTensor()]\n",
    "dataset = ModelNetFewShot(path, 'train', way=5, shot=10, fold=5, transforms=transforms)\n",
    "len(dataset)"
   ]
  },
  {
   "cell_type": "code",
   "execution_count": null,
   "metadata": {},
   "outputs": [],
   "source": []
  }
 ],
 "metadata": {
  "kernelspec": {
   "display_name": "python3",
   "language": "python",
   "name": "python3"
  }
 },
 "nbformat": 4,
 "nbformat_minor": 4
}
