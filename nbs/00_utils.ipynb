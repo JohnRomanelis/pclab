{
 "cells": [
  {
   "cell_type": "markdown",
   "id": "0663485b-da46-4824-b831-08d59aeaa5ea",
   "metadata": {},
   "source": [
    "# Utils\n",
    "\n",
    "> A set of utility functions for common tasks, suck as fast visualization."
   ]
  },
  {
   "cell_type": "code",
   "execution_count": null,
   "id": "b827d552-974c-4ebd-857e-e214b8788d28",
   "metadata": {},
   "outputs": [],
   "source": [
    "#| default_exp utils"
   ]
  },
  {
   "cell_type": "code",
   "execution_count": null,
   "id": "2ecb9060-8dee-4c63-b848-28fa598de850",
   "metadata": {},
   "outputs": [
    {
     "name": "stdout",
     "output_type": "stream",
     "text": [
      "Jupyter environment detected. Enabling Open3D WebVisualizer.\n",
      "[Open3D INFO] WebRTC GUI backend enabled.\n",
      "[Open3D INFO] WebRTCWindowSystem: HTTP handshake server disabled.\n"
     ]
    }
   ],
   "source": [
    "#| export \n",
    "import numpy as np\n",
    "import torch\n",
    "import torch.nn as nn\n",
    "import torch.nn.functional as F\n",
    "import open3d as o3d\n",
    "from typing import Mapping"
   ]
  },
  {
   "cell_type": "code",
   "execution_count": null,
   "id": "068482e3-af5d-4844-80c9-c95728b63b5d",
   "metadata": {},
   "outputs": [],
   "source": [
    "#| export \n",
    "def_device = 'mps' if torch.backends.mps.is_available() else 'cuda' if torch.cuda.is_available() else 'cpu'"
   ]
  },
  {
   "cell_type": "code",
   "execution_count": null,
   "id": "5cdae6a7-a940-4616-92b9-9ee443ce3ed3",
   "metadata": {},
   "outputs": [],
   "source": [
    "#| export \n",
    "def to_device(x, device=def_device):\n",
    "    if isinstance(x, torch.Tensor): return x.to(device)\n",
    "    if isinstance(x, Mapping): return {k:v.to(device) for k,v in x.items()}\n",
    "    return type(x)(to_device(o, device) for o in x)"
   ]
  },
  {
   "cell_type": "code",
   "execution_count": null,
   "id": "997116f4-ecd2-4d99-be83-ee1a85a69f0e",
   "metadata": {},
   "outputs": [],
   "source": [
    "#| export \n",
    "class DataLoaders:\n",
    "    def __init__(self, *dls): self.train, self.valid = dls[:2]"
   ]
  },
  {
   "cell_type": "code",
   "execution_count": null,
   "id": "188b0f4d-8934-45b2-bea6-c49ad547bb8d",
   "metadata": {},
   "outputs": [],
   "source": [
    "#| export\n",
    "def pc_to_o3d(pc): # point cloud as np.array or torch.tensor\n",
    "    \"turn a point cloud, represented as a np.array or torch.tensor to an [Open3D.geometry.PointCloud](http://www.open3d.org/docs/0.16.0/python_api/open3d.geometry.PointCloud.html)\"\n",
    "    pc = o3d.geometry.PointCloud(\n",
    "            o3d.utility.Vector3dVector(pc)\n",
    "    )\n",
    "    return pc"
   ]
  },
  {
   "cell_type": "code",
   "execution_count": null,
   "id": "0ddc578c-3ad4-440b-87a7-6d4eabd67bc0",
   "metadata": {},
   "outputs": [],
   "source": [
    "#| export \n",
    "def quick_vis(pc): # point cloud as np.array or torch.tensor\n",
    "    if len(pc.shape) == 3 and pc.shape[0] == 1: pc.squeeze(0) # removing batch dimension\n",
    "    if isinstance(pc, torch.Tensor): pc = pc.cpu().detach().numpy()\n",
    "    \n",
    "    if pc.shape[-1] != 3: pc = pc.T \n",
    "    \n",
    "    pc = pc_to_o3d(pc)\n",
    "    o3d.visualization.draw_geometries([pc])"
   ]
  },
  {
   "cell_type": "code",
   "execution_count": null,
   "id": "add6978e-baa2-4cb2-b1c1-717549c20f30",
   "metadata": {},
   "outputs": [],
   "source": [
    "#| hide\n",
    "#| eval: false\n",
    "pc = torch.randn(100, 3)\n",
    "quick_vis(pc)"
   ]
  },
  {
   "cell_type": "markdown",
   "id": "49c551a1-7696-4550-920c-02ff7e3a9956",
   "metadata": {},
   "source": [
    "# Loss Functions"
   ]
  },
  {
   "cell_type": "code",
   "execution_count": null,
   "id": "34bcbf58-89ea-4eb0-bb53-0f0e64425f53",
   "metadata": {},
   "outputs": [],
   "source": [
    "#| export \n",
    "def cal_loss(pred, gold, smoothing=True):\n",
    "    ''' Calculate cross entropy loss, apply label smoothing if needed. '''\n",
    "\n",
    "    gold = gold.contiguous().view(-1)\n",
    "\n",
    "    if smoothing:\n",
    "        eps = 0.2\n",
    "        n_class = pred.size(1)\n",
    "\n",
    "        one_hot = torch.zeros_like(pred).scatter(1, gold.view(-1, 1), 1)\n",
    "        one_hot = one_hot * (1 - eps) + (1 - one_hot) * eps / (n_class - 1)\n",
    "        log_prb = F.log_softmax(pred, dim=1)\n",
    "\n",
    "        loss = -(one_hot * log_prb).sum(dim=1).mean()\n",
    "    else:\n",
    "        loss = F.cross_entropy(pred, gold, reduction='mean')\n",
    "\n",
    "    return loss"
   ]
  },
  {
   "cell_type": "code",
   "execution_count": null,
   "id": "5a80cb97-2b89-4149-a68e-1e8a89b6a950",
   "metadata": {},
   "outputs": [],
   "source": []
  }
 ],
 "metadata": {
  "kernelspec": {
   "display_name": "python3",
   "language": "python",
   "name": "python3"
  }
 },
 "nbformat": 4,
 "nbformat_minor": 5
}
